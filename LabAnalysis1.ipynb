{
  "nbformat": 4,
  "nbformat_minor": 0,
  "metadata": {
    "colab": {
      "name": "LabAnalysis1.ipynb",
      "provenance": [],
      "collapsed_sections": [],
      "authorship_tag": "ABX9TyMAhRKlZRZ4WCJ9IT2KIIwZ",
      "include_colab_link": true
    },
    "kernelspec": {
      "name": "python3",
      "display_name": "Python 3"
    },
    "language_info": {
      "name": "python"
    }
  },
  "cells": [
    {
      "cell_type": "markdown",
      "metadata": {
        "id": "view-in-github",
        "colab_type": "text"
      },
      "source": [
        "<a href=\"https://colab.research.google.com/github/NYUExperimentalPhysics1-2021/LabAnalysis1/blob/main/LabAnalysis1.ipynb\" target=\"_parent\"><img src=\"https://colab.research.google.com/assets/colab-badge.svg\" alt=\"Open In Colab\"/></a>"
      ]
    },
    {
      "cell_type": "code",
      "metadata": {
        "id": "js12JqEMpg0J"
      },
      "source": [
        "import numpy as np\n",
        "import matplotlib.pyplot as plt"
      ],
      "execution_count": null,
      "outputs": []
    },
    {
      "cell_type": "markdown",
      "metadata": {
        "id": "nkap2yKDplvH"
      },
      "source": [
        "##Data entry\n",
        "In the cell below, please type in your results from your lab book. For instance, hand_a would have the 20 measurements of the period you made by counting one swing by hand"
      ]
    },
    {
      "cell_type": "code",
      "metadata": {
        "id": "Vb-KdWFBqCKu"
      },
      "source": [
        "hand_a = np.array([]) #measurements made by hand, method A\n",
        "hand_b = np.array([]) #measurements made by hand, method B\n",
        "hand_c = np.array([]) #measurements made by hand, method C\n",
        "hand_d = np.array([]) #measurements made by hand, method D\n",
        "\n",
        "platform_a = np.array([]) #measurements made using platform, method A\n",
        "platform_b = np.array([]) #measurements made using platform, method B\n",
        "platform_c = np.array([]) #measurements made using platform, method C'\n",
        "\n",
        "delta_length = np.array([0,-1,-2,0,1,2,0]) #length change in mm\n",
        "period_vs_length = [[], [], [],[],[],[],[]] #measurements for each of the 7 conditions above; I didn't convert to array, because you might have a different number of measurements for each length change\n"
      ],
      "execution_count": null,
      "outputs": []
    },
    {
      "cell_type": "markdown",
      "metadata": {
        "id": "gu6VvBD4yEt1"
      },
      "source": [
        "##Analysis of hand measurements\n",
        "The \"standard error of the mean\" is how much you would expect the mean of your measurements to vary if you repeated the experiment, making the same number of measurements again. s.e.m. $= \\frac{\\sigma}{\\sqrt{N}}$, where $\\sigma$ is the standard deviation of the measurements. \n",
        "\n",
        "1. Calculate the mean ($\\mu$), standard deviation ($\\sigma$), and standard error of the mean for each of your hand measurements (s.e.m.). Use 1/(N-1) to calculate the standard deviation. Print these out as a table.\n",
        "2. For methods A-C, plot the stadard deviation vs. the number of periods counted, using circle markers connected with a line. Add the method D result using a star (*) marker. \n",
        "3. Make an error plot with the x axis representing the measurement set (1 = A, 2 = B, 3 = C, and 4=D) and the mean and s.e.m. as the y center and error range respectively. Don't connect the markers with a line. Set the X-ticks to be 1,2,3, and 4. If you are fancy, you can change the X-tick labels from 1,2,3,4 to A,B,C,D. But you don't have to. \n",
        "4. Make a histogram showing all 4 measurement sets in different colors. Use 20 bins spanning the range between $\\mu_C - 3\\sigma_A$ and $\\mu_C + 3\\sigma_A$. Add a legend to your plot to explain which color goes with which data set. ($\\mu_C$ is the mean of your measurements made with method C; $\\sigma_A$ is the standard deviation of your measurements made with method A.)\n",
        "5. Your histogram will be made using 20 values for measurements, A and B and 10 values for C and D. Can you make a frequency distribution instead, so that for each condition, all the values sum to 1?\n"
      ]
    },
    {
      "cell_type": "code",
      "metadata": {
        "id": "UXzvK3ruzVtk"
      },
      "source": [
        "## Write your code to do analysis of hand measurements here"
      ],
      "execution_count": null,
      "outputs": []
    },
    {
      "cell_type": "markdown",
      "metadata": {
        "id": "M__VvXN34VFq"
      },
      "source": [
        "##Questions - Please type your answers in here directly\n",
        "\n",
        "1. Are your measurements A-D consistent with each other? Explain why or why not; if they are not consistent, what does this mean? \n",
        "\n",
        "2. For methods A-C, how does the error (standard deviation) of a single measurement scale with the number of periods counted? \n",
        "\n",
        "3. Method B and method D both involve counting 10 periods. Do they have the same error? If not, which has less error? Why do you think this is?"
      ]
    },
    {
      "cell_type": "markdown",
      "metadata": {
        "id": "a0ViWxyy5P-q"
      },
      "source": [
        "## Analysis of platform measurements\n",
        "1. Calculate the mean ($\\mu$), standard deviation ($\\sigma$), and standard error of the mean (s.e.m.) for each of your platfor measurements A-C'. Use 1/(N-1) to calculate the standard deviation. Print these out as a table.\n",
        "2. Plot the stadard deviation vs. the number of periods counted, using circle markers connected with a line. \n",
        "3. Make an error plot with the x axis representing the measurement set (1 = A, 2 = B, 3 = C') and the mean and s.e.m. as the y center and error range respectively. Don't connect the markers with a line. Set the X-ticks to be 1,2,3. If you are fancy, you can change the X-tick labels from 1,2,3 to 1,10,25. But you don't have to. \n",
        "4.  Make a histogram showing all 3 measurement sets in different colors. Use 20 bins spanning the range between $\\mu_{C'} - 3\\sigma_A$ and $\\mu_{C'} + 3\\sigma_A$. Add a legend to your plot to explain which color goes with which data set. \n",
        "5. Make the same histogram again, adding the results from hand measurement C."
      ]
    },
    {
      "cell_type": "code",
      "metadata": {
        "id": "-0P9es9F6rah"
      },
      "source": [
        "## Write your code to analysis of platform measurements here"
      ],
      "execution_count": null,
      "outputs": []
    },
    {
      "cell_type": "markdown",
      "metadata": {
        "id": "0DcsB87q6u5p"
      },
      "source": [
        "##Questions - Please type your answers in here directly\n",
        "\n",
        "1. Are your measurements A-C' consistent with each other? Explain why or why not; if they are not consistent, what does this mean? \n",
        "\n",
        "2. How does the error (standard deviation) of a single measurement scale with the number of periods counted? \n",
        "\n",
        "3. How much more accurate are the platform measurements than the hand measurements? \n",
        "\n",
        "4. Evaluate the following argument, being as quantitative as you can: \"The platform measurements aren't more accurate - they are just faster. If I wanted to get the same level of accuracy using the hand counter, I could just count more periods.\""
      ]
    },
    {
      "cell_type": "markdown",
      "metadata": {
        "id": "4A38-5vONvy8"
      },
      "source": [
        "##Analysis of displacement measurements\n",
        "1. Calculate the mean ($\\mu$), standard deviation ($\\sigma$), and standard error of the mean (s.e.m.) for each of the 7 displacement measurements. Use 1/(N-1) to calculate the standard deviation. Print these out as a table.\n",
        "2. Consider the three sets of measurements at \"0\" displacement. Do you think you can group them all together and treat them as measuring the same length? Either way, calculate the mean ($\\mu$), standard deviation ($\\sigma$), and standard error of the mean (s.e.m.) for the \"0\" displacement measurements, taken together.\n",
        "3. Make an error plot of period vs. displacement. Use the s.e.m. for the y-error bars. Extra fancy (optional): add x-error bars representing how much uncertainty you think there is in your adjustment of the position (1 full turn = 1 mm, so 1/4 turn would be 250 $\\mu$m and 1/12 turn (the difference between noon and 1 on a clock) would be 83 $\\mu$m.  \n",
        "4. Using $T = 2\\pi \\sqrt{\\frac{L}{g}}$,  $g = 9.802$, and the mean of the 0 displacement measurements of the period $T$, calculate the length at 0 displacement. Now predict the period in the range of -2 to 2 mm above and below this length and plot this prediction over your data with a black dashed line. *(Note: this is not the best way to fit the length-period relation to the data, because we are only using one set of measurements (at 0 displacement). We'll learn a better way soon!)*"
      ]
    },
    {
      "cell_type": "code",
      "metadata": {
        "id": "CRpQbJaYRHKs"
      },
      "source": [
        "[] ##Write your code to analyze the displacement measurements here"
      ],
      "execution_count": null,
      "outputs": []
    },
    {
      "cell_type": "markdown",
      "metadata": {
        "id": "7jBqdeuYRQmK"
      },
      "source": [
        "##Questions - Please type your answers in here directly\n",
        "1. Explain how you decided whether or not you could group together the 3 sets of 0-displacement measurements?\n",
        "2. When you group together the 3 sets of 0-displacement measurements, is the standard deviation greater or less than the standard deviation of a single set of measurements? Is the standard error of the mean greater or less for the set of 3 than for a single set? Explain what this means."
      ]
    }
  ]
}